{
  "nbformat": 4,
  "nbformat_minor": 0,
  "metadata": {
    "colab": {
      "provenance": []
    },
    "kernelspec": {
      "name": "python3",
      "display_name": "Python 3"
    },
    "language_info": {
      "name": "python"
    }
  },
  "cells": [
    {
      "cell_type": "code",
      "source": [
        "from google.colab import drive\n",
        "drive.mount('/content/drive')"
      ],
      "metadata": {
        "colab": {
          "base_uri": "https://localhost:8080/"
        },
        "id": "YRc667EsGrxU",
        "outputId": "dfb4b1ef-303f-42db-eb58-8b06b0549898"
      },
      "execution_count": 1,
      "outputs": [
        {
          "output_type": "stream",
          "name": "stdout",
          "text": [
            "Drive already mounted at /content/drive; to attempt to forcibly remount, call drive.mount(\"/content/drive\", force_remount=True).\n"
          ]
        }
      ]
    },
    {
      "cell_type": "code",
      "source": [
        "!pip install pyspark"
      ],
      "metadata": {
        "colab": {
          "base_uri": "https://localhost:8080/"
        },
        "id": "cqVOBHL9GyJE",
        "outputId": "3cad4865-a98d-4930-f1a4-5f45643d6297"
      },
      "execution_count": 2,
      "outputs": [
        {
          "output_type": "stream",
          "name": "stdout",
          "text": [
            "Looking in indexes: https://pypi.org/simple, https://us-python.pkg.dev/colab-wheels/public/simple/\n",
            "Collecting pyspark\n",
            "  Downloading pyspark-3.4.1.tar.gz (310.8 MB)\n",
            "\u001b[2K     \u001b[90m━━━━━━━━━━━━━━━━━━━━━━━━━━━━━━━━━━━━━━━\u001b[0m \u001b[32m310.8/310.8 MB\u001b[0m \u001b[31m4.0 MB/s\u001b[0m eta \u001b[36m0:00:00\u001b[0m\n",
            "\u001b[?25h  Preparing metadata (setup.py) ... \u001b[?25l\u001b[?25hdone\n",
            "Requirement already satisfied: py4j==0.10.9.7 in /usr/local/lib/python3.10/dist-packages (from pyspark) (0.10.9.7)\n",
            "Building wheels for collected packages: pyspark\n",
            "  Building wheel for pyspark (setup.py) ... \u001b[?25l\u001b[?25hdone\n",
            "  Created wheel for pyspark: filename=pyspark-3.4.1-py2.py3-none-any.whl size=311285398 sha256=806aba1d92c50d2787767e04e03caba2d4fc29546ef8698ac3cb8ae103815721\n",
            "  Stored in directory: /root/.cache/pip/wheels/0d/77/a3/ff2f74cc9ab41f8f594dabf0579c2a7c6de920d584206e0834\n",
            "Successfully built pyspark\n",
            "Installing collected packages: pyspark\n",
            "Successfully installed pyspark-3.4.1\n"
          ]
        }
      ]
    },
    {
      "cell_type": "code",
      "source": [
        "from pyspark.sql import SparkSession\n",
        "from pyspark.sql.functions import col\n",
        "from pyspark.ml.recommendation import ALS\n",
        "\n",
        "spark = SparkSession.builder.appName(\"Movie Lens\").getOrCreate()"
      ],
      "metadata": {
        "id": "YVAVNAmiHEbd"
      },
      "execution_count": 3,
      "outputs": []
    },
    {
      "cell_type": "code",
      "source": [
        "def parseRating(str):\n",
        "    fields = str.split(\"::\")\n",
        "    assert len(fields) == 4\n",
        "    return (int(fields[0]), int(fields[1]), float(fields[2]), int(fields[3]))"
      ],
      "metadata": {
        "id": "xfVXA71gHp-5"
      },
      "execution_count": 4,
      "outputs": []
    },
    {
      "cell_type": "code",
      "source": [
        "spark = SparkSession.builder.master(\"local[*]\").getOrCreate()\n",
        "\n",
        "class Rating:\n",
        "    def __init__(self, userId, movieId, rating, timestamp):\n",
        "        self.userId = int(userId)\n",
        "        self.movieId = int(movieId)\n",
        "        self.rating = float(rating)\n",
        "        self.timestamp = float(timestamp)\n",
        "\n",
        "def parseRating(str):\n",
        "    fields = str.split(\",\")\n",
        "    assert(len(fields) == 4)\n",
        "    return Rating(int(fields[0]), int(fields[1]), float(fields[2]), float(fields[3]))"
      ],
      "metadata": {
        "id": "6fc_AJNJKmIy"
      },
      "execution_count": 5,
      "outputs": []
    },
    {
      "cell_type": "code",
      "source": [
        "# Test it\n",
        "parseRating(\"1,1193,5,978300760\")"
      ],
      "metadata": {
        "colab": {
          "base_uri": "https://localhost:8080/"
        },
        "id": "DgYw9nmbK7Md",
        "outputId": "bfba3676-a96f-4650-e02a-15ad40e1302d"
      },
      "execution_count": 6,
      "outputs": [
        {
          "output_type": "execute_result",
          "data": {
            "text/plain": [
              "<__main__.Rating at 0x7f9430ec9450>"
            ]
          },
          "metadata": {},
          "execution_count": 6
        }
      ]
    },
    {
      "cell_type": "code",
      "source": [
        "\n",
        "ratings = spark.read.csv(\"/content/drive/MyDrive/Big Data/Spark/ratings.csv\", header=True, inferSchema=True)\n",
        "# Check if everything is ok\n",
        "ratings.show(5)"
      ],
      "metadata": {
        "colab": {
          "base_uri": "https://localhost:8080/"
        },
        "id": "oeCbjwwGLCIn",
        "outputId": "9e513170-87ec-447a-da6f-496c541495b5"
      },
      "execution_count": 7,
      "outputs": [
        {
          "output_type": "stream",
          "name": "stdout",
          "text": [
            "+------+-------+------+---------+\n",
            "|userId|movieId|rating|timestamp|\n",
            "+------+-------+------+---------+\n",
            "|     1|      1|   4.0|964982703|\n",
            "|     1|      3|   4.0|964981247|\n",
            "|     1|      6|   4.0|964982224|\n",
            "|     1|     47|   5.0|964983815|\n",
            "|     1|     50|   5.0|964982931|\n",
            "+------+-------+------+---------+\n",
            "only showing top 5 rows\n",
            "\n"
          ]
        }
      ]
    },
    {
      "cell_type": "code",
      "source": [
        "# Data Training 80% dan Test 20%\n",
        "training, test = ratings.randomSplit([0.8, 0.2])"
      ],
      "metadata": {
        "id": "S84kHq6pL5FR"
      },
      "execution_count": 8,
      "outputs": []
    },
    {
      "cell_type": "code",
      "source": [
        "als = ALS(maxIter=5, regParam=0.01, userCol=\"userId\", itemCol=\"movieId\", ratingCol=\"rating\")\n",
        "model = als.fit(training)\n",
        "model.save(\"mymodel\")\n"
      ],
      "metadata": {
        "id": "tXDYRFzriWuv"
      },
      "execution_count": 9,
      "outputs": []
    },
    {
      "cell_type": "code",
      "source": [
        "predictions = model.transform(test)\n",
        "mse = predictions.withColumn(\"diff\", col(\"rating\") - col(\"prediction\")).select((col(\"diff\") ** 2).alias(\"squared_diff\")).filter(~col(\"squared_diff\").isNull()).agg({\"squared_diff\": \"sum\"}).collect()[0][0]\n",
        "print(\"Mean Squared Error:\", mse)\n",
        "\n",
        "predictions.show(10)"
      ],
      "metadata": {
        "colab": {
          "base_uri": "https://localhost:8080/"
        },
        "id": "jEfN-CWwiY61",
        "outputId": "bb519b68-99e1-445a-9936-6951ca693da9"
      },
      "execution_count": 10,
      "outputs": [
        {
          "output_type": "stream",
          "name": "stdout",
          "text": [
            "Mean Squared Error: nan\n",
            "+------+-------+------+---------+----------+\n",
            "|userId|movieId|rating|timestamp|prediction|\n",
            "+------+-------+------+---------+----------+\n",
            "|     1|    362|   5.0|964982588| 3.8978007|\n",
            "|     1|    923|   5.0|964981529|  4.251715|\n",
            "|     1|   1029|   5.0|964982855|  4.504368|\n",
            "|     1|    553|   5.0|964984153|  5.373411|\n",
            "|     1|    316|   3.0|964982310|  4.147068|\n",
            "|     1|    231|   5.0|964981179| 3.8493934|\n",
            "|     1|    733|   4.0|964982400| 3.8678486|\n",
            "|     1|    648|   3.0|964982563| 4.2043037|\n",
            "|     1|    527|   5.0|964984002|  4.748278|\n",
            "|     1|   1049|   5.0|964982400| 3.7579348|\n",
            "+------+-------+------+---------+----------+\n",
            "only showing top 10 rows\n",
            "\n"
          ]
        }
      ]
    },
    {
      "cell_type": "code",
      "source": [
        "# Menyimpan Hasil Prediksi\n",
        "predictions.write.format(\"csv\").save(\"ml-bigdata.csv\")"
      ],
      "metadata": {
        "id": "yED62tKbigf-"
      },
      "execution_count": 11,
      "outputs": []
    },
    {
      "cell_type": "code",
      "source": [],
      "metadata": {
        "id": "akhRsVtVijwn"
      },
      "execution_count": null,
      "outputs": []
    }
  ]
}